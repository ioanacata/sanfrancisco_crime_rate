{
 "cells": [
  {
   "cell_type": "markdown",
   "metadata": {},
   "source": [
    "# San Francisco Crime Rate Analysis"
   ]
  },
  {
   "cell_type": "markdown",
   "metadata": {},
   "source": [
    "This is just a test of mine\n"
   ]
  },
  {
   "cell_type": "code",
   "execution_count": null,
   "metadata": {
    "collapsed": false
   },
   "outputs": [],
   "source": [
    "import csv\n",
    "import numpy as np\n",
    "import matplotlib.pyplot as plt\n",
    "import matplotlib.patches as mpatches\n",
    "import math\n",
    "import random\n",
    "\n",
    "def random_color():\n",
    "    r = random.random()\n",
    "    g = random.random()\n",
    "    b = random.random()\n",
    "    t = (r,g,b, True)\n",
    "    return t\n",
    "reader = csv.DictReader(open('sanfrancisco.csv'))\n",
    "indexrow = 0;\n",
    "result = []\n",
    "X = []\n",
    "Y = []\n",
    "typel = []\n",
    "c =[]\n",
    "colors = []\n",
    "hand = []\n",
    "colorss = \"bgrcmykwbgrcmykwbgrcmykwbgrcmykwbgrcmykwbgrcmykw\"\n",
    "color_index = 0;\n",
    "for row in reader:\n",
    "     obj = {}\n",
    "     for column, value in row.iteritems():\n",
    "         obj[column] = value\n",
    "\t \n",
    "     result.append(obj)\n",
    "     if obj[\"Category\"] not in typel:\n",
    "         typel.append(obj[\"Category\"])\n",
    "         c.append(colorss[color_index])\n",
    "         hand.append(mpatches.Patch(color=colorss[color_index], label=obj[\"Category\"]))\n",
    "         color_index = color_index +1\n",
    "     X.append(float(obj[\"X\"]))\n",
    "     Y.append(float(obj[\"Y\"]))\n",
    "for obj in result:\n",
    "     idx = typel.index(obj[\"Category\"])\n",
    "     colors.append(c[idx])\n",
    "plt.scatter(X,Y, c=colors, alpha=0.2)\n",
    "recs=[]\n",
    "plt.show()\n",
    "\n",
    "\n"
   ]
  },
  {
   "cell_type": "code",
   "execution_count": null,
   "metadata": {
    "collapsed": true
   },
   "outputs": [],
   "source": []
  }
 ],
 "metadata": {
  "kernelspec": {
   "display_name": "Python 2",
   "language": "python",
   "name": "python2"
  },
  "language_info": {
   "codemirror_mode": {
    "name": "ipython",
    "version": 2
   },
   "file_extension": ".py",
   "mimetype": "text/x-python",
   "name": "python",
   "nbconvert_exporter": "python",
   "pygments_lexer": "ipython2",
   "version": "2.7.10"
  }
 },
 "nbformat": 4,
 "nbformat_minor": 0
}
